{
 "cells": [
  {
   "cell_type": "markdown",
   "metadata": {},
   "source": [
    "# Clasificación Supervizada de Objetos Astronómicos\n",
    "\n",
    "El objetivo de este trabajo es analizar la eficiencia y utilidad de diversos modelos de clasificación supervisada.<br>Para esto, se estudiará un caso en especifico; La clasificación de objetos astronómicos, (dada sus carácterisitcas), en una de las 3 siguientes categorías:\n",
    "\n",
    "* Estrella.\n",
    "* Galaxia.\n",
    "* Quasar.\n",
    "\n",
    "Se tiene a disposición un dataset con 10.000 observaciones registradas por la SDSS, el cual se utilizará para <i>\"entrenar\"</i> a cada uno de los modelos.\n",
    "\n",
    "## Importación del Dataset\n"
   ]
  },
  {
   "cell_type": "code",
   "execution_count": 37,
   "metadata": {},
   "outputs": [
    {
     "data": {
      "text/html": [
       "<div>\n",
       "<style scoped>\n",
       "    .dataframe tbody tr th:only-of-type {\n",
       "        vertical-align: middle;\n",
       "    }\n",
       "\n",
       "    .dataframe tbody tr th {\n",
       "        vertical-align: top;\n",
       "    }\n",
       "\n",
       "    .dataframe thead th {\n",
       "        text-align: right;\n",
       "    }\n",
       "</style>\n",
       "<table border=\"1\" class=\"dataframe\">\n",
       "  <thead>\n",
       "    <tr style=\"text-align: right;\">\n",
       "      <th></th>\n",
       "      <th>objid</th>\n",
       "      <th>ra</th>\n",
       "      <th>dec</th>\n",
       "      <th>u</th>\n",
       "      <th>g</th>\n",
       "      <th>r</th>\n",
       "      <th>i</th>\n",
       "      <th>z</th>\n",
       "      <th>run</th>\n",
       "      <th>rerun</th>\n",
       "      <th>camcol</th>\n",
       "      <th>field</th>\n",
       "      <th>specobjid</th>\n",
       "      <th>class</th>\n",
       "      <th>redshift</th>\n",
       "      <th>plate</th>\n",
       "      <th>mjd</th>\n",
       "      <th>fiberid</th>\n",
       "    </tr>\n",
       "  </thead>\n",
       "  <tbody>\n",
       "    <tr>\n",
       "      <th>0</th>\n",
       "      <td>1.237650e+18</td>\n",
       "      <td>183.531326</td>\n",
       "      <td>0.089693</td>\n",
       "      <td>19.47406</td>\n",
       "      <td>17.04240</td>\n",
       "      <td>15.94699</td>\n",
       "      <td>15.50342</td>\n",
       "      <td>15.22531</td>\n",
       "      <td>752</td>\n",
       "      <td>301</td>\n",
       "      <td>4</td>\n",
       "      <td>267</td>\n",
       "      <td>3.722360e+18</td>\n",
       "      <td>STAR</td>\n",
       "      <td>-0.000009</td>\n",
       "      <td>3306</td>\n",
       "      <td>54922</td>\n",
       "      <td>491</td>\n",
       "    </tr>\n",
       "    <tr>\n",
       "      <th>1</th>\n",
       "      <td>1.237650e+18</td>\n",
       "      <td>183.598371</td>\n",
       "      <td>0.135285</td>\n",
       "      <td>18.66280</td>\n",
       "      <td>17.21449</td>\n",
       "      <td>16.67637</td>\n",
       "      <td>16.48922</td>\n",
       "      <td>16.39150</td>\n",
       "      <td>752</td>\n",
       "      <td>301</td>\n",
       "      <td>4</td>\n",
       "      <td>267</td>\n",
       "      <td>3.638140e+17</td>\n",
       "      <td>STAR</td>\n",
       "      <td>-0.000055</td>\n",
       "      <td>323</td>\n",
       "      <td>51615</td>\n",
       "      <td>541</td>\n",
       "    </tr>\n",
       "    <tr>\n",
       "      <th>2</th>\n",
       "      <td>1.237650e+18</td>\n",
       "      <td>183.680207</td>\n",
       "      <td>0.126185</td>\n",
       "      <td>19.38298</td>\n",
       "      <td>18.19169</td>\n",
       "      <td>17.47428</td>\n",
       "      <td>17.08732</td>\n",
       "      <td>16.80125</td>\n",
       "      <td>752</td>\n",
       "      <td>301</td>\n",
       "      <td>4</td>\n",
       "      <td>268</td>\n",
       "      <td>3.232740e+17</td>\n",
       "      <td>GALAXY</td>\n",
       "      <td>0.123111</td>\n",
       "      <td>287</td>\n",
       "      <td>52023</td>\n",
       "      <td>513</td>\n",
       "    </tr>\n",
       "    <tr>\n",
       "      <th>3</th>\n",
       "      <td>1.237650e+18</td>\n",
       "      <td>183.870529</td>\n",
       "      <td>0.049911</td>\n",
       "      <td>17.76536</td>\n",
       "      <td>16.60272</td>\n",
       "      <td>16.16116</td>\n",
       "      <td>15.98233</td>\n",
       "      <td>15.90438</td>\n",
       "      <td>752</td>\n",
       "      <td>301</td>\n",
       "      <td>4</td>\n",
       "      <td>269</td>\n",
       "      <td>3.722370e+18</td>\n",
       "      <td>STAR</td>\n",
       "      <td>-0.000111</td>\n",
       "      <td>3306</td>\n",
       "      <td>54922</td>\n",
       "      <td>510</td>\n",
       "    </tr>\n",
       "  </tbody>\n",
       "</table>\n",
       "</div>"
      ],
      "text/plain": [
       "          objid          ra       dec         u         g         r         i  \\\n",
       "0  1.237650e+18  183.531326  0.089693  19.47406  17.04240  15.94699  15.50342   \n",
       "1  1.237650e+18  183.598371  0.135285  18.66280  17.21449  16.67637  16.48922   \n",
       "2  1.237650e+18  183.680207  0.126185  19.38298  18.19169  17.47428  17.08732   \n",
       "3  1.237650e+18  183.870529  0.049911  17.76536  16.60272  16.16116  15.98233   \n",
       "\n",
       "          z  run  rerun  camcol  field     specobjid   class  redshift  plate  \\\n",
       "0  15.22531  752    301       4    267  3.722360e+18    STAR -0.000009   3306   \n",
       "1  16.39150  752    301       4    267  3.638140e+17    STAR -0.000055    323   \n",
       "2  16.80125  752    301       4    268  3.232740e+17  GALAXY  0.123111    287   \n",
       "3  15.90438  752    301       4    269  3.722370e+18    STAR -0.000111   3306   \n",
       "\n",
       "     mjd  fiberid  \n",
       "0  54922      491  \n",
       "1  51615      541  \n",
       "2  52023      513  \n",
       "3  54922      510  "
      ]
     },
     "execution_count": 37,
     "metadata": {},
     "output_type": "execute_result"
    }
   ],
   "source": [
    "import pandas as pd\n",
    "df = pd.read_csv(\"SDSS-DR14.csv\")\n",
    "df[:4]"
   ]
  },
  {
   "cell_type": "markdown",
   "metadata": {},
   "source": [
    "## Descripción de los Parámetros\n",
    "\n",
    "A continuación se detalla el significado de cada parámetro de las observaciones, indicando su tipo y si será utilizado posteriormente por los modelos.\n",
    "\n",
    "<table style=\"float:left\">\n",
    "    <tr style=\"background:#444;color:white\">\n",
    "        <th>Parámetro</th>\n",
    "        <th>Descripción</th>\n",
    "        <th>Tipo de Variable</th>\n",
    "        <th>Utilizada</th>\n",
    "    </tr>\n",
    "    <tr>\n",
    "        <td style='font-weight:bold'>objid:</td>\n",
    "        <td>Id de la tabla de la cual proviene el dataset.</td>\n",
    "        <td>Discreta</td>\n",
    "        <td>No</td>\n",
    "    </tr>\n",
    "    <tr>\n",
    "        <td style='font-weight:bold'>ra:</td>\n",
    "        <td>Ángulo de ascensión recta. <a href=\"https://en.wikipedia.org/wiki/Right_ascension\">Más Info</a></td>\n",
    "        <td>Continua</td>\n",
    "        <td>No</td>\n",
    "    </tr>\n",
    "    <tr>\n",
    "        <td style='font-weight:bold'>dec:</td>\n",
    "        <td>Ángulo de declinación. <a href=\"https://en.wikipedia.org/wiki/Declination\">Más Info</a></td>\n",
    "        <td>Continua</td>\n",
    "        <td>No</td>\n",
    "    </tr>\n",
    "    <tr>\n",
    "        <td style='font-weight:bold'>u:</td>\n",
    "        <td>Intensidad del espectro ultravioleta.</td>\n",
    "        <td>Continua</td>\n",
    "        <td>Si</td>\n",
    "    </tr>\n",
    "    <tr>\n",
    "        <td style='font-weight:bold'>g:</td>\n",
    "        <td>Intensidad del espectro verde.</td>\n",
    "        <td>Continua</td>\n",
    "        <td>Si</td>\n",
    "    </tr>\n",
    "    <tr>\n",
    "        <td style='font-weight:bold'>r:</td>\n",
    "        <td>Intensidad del espectro rojo.</td>\n",
    "        <td>Continua</td>\n",
    "        <td>Si</td>\n",
    "    </tr>\n",
    "    <tr>\n",
    "        <td style='font-weight:bold'>i:</td>\n",
    "        <td>Intensidad del espectro infrarojo.</td>\n",
    "        <td>Continua</td>\n",
    "        <td>Si</td>\n",
    "    </tr>\n",
    "    <tr>\n",
    "        <td style='font-weight:bold'>z:</td>\n",
    "        <td>Intensidad del espectro infrarojo lejano.</td>\n",
    "        <td>Continua</td>\n",
    "        <td>Si</td>\n",
    "    </tr>\n",
    "    <tr>\n",
    "        <td style='font-weight:bold'>run:</td>\n",
    "        <td>Largo de la tira actual (ID del escaneo). <a href=\"https://www.sdss.org/dr16/imaging/imaging_basics/\">Más Info</a></td>\n",
    "        <td>Discreta</td>\n",
    "        <td>No</td>\n",
    "    </tr>\n",
    "    <tr>\n",
    "        <td style='font-weight:bold'>rerun:</td>\n",
    "        <td>Tipo de reprocesamieto del <i>\"run\"</i>. <a href=\"https://www.sdss.org/dr16/help/glossary/#rerun\">Más Info</a></td>\n",
    "        <td>Discreta</td>\n",
    "        <td>No</td>\n",
    "    </tr>\n",
    "    <tr>\n",
    "        <td style='font-weight:bold'>camcol:</td>\n",
    "        <td>ID de una de las 6 tiras de la cámara utilizada en la captura. <a href=\"https://www.sdss.org/dr16/help/glossary/#camcol\">Más Info</a></td>\n",
    "        <td>Discreta</td>\n",
    "        <td>No</td>\n",
    "    </tr>\n",
    "    <tr>\n",
    "        <td style='font-weight:bold'>field:</td>\n",
    "        <td>Fragmento o parte de la tira. <a href=\"https://www.sdss.org/dr16/help/glossary/#field\">Más Info</a></td>\n",
    "        <td>Discreta</td>\n",
    "        <td>No</td>\n",
    "    </tr>\n",
    "    <tr>\n",
    "        <td style='font-weight:bold'>specobjid:</td>\n",
    "        <td>ID del objeto espectroscópico. <a href=\"https://www.sdss.org/dr16/help/glossary/#specobj\">Más Info</a></td>\n",
    "        <td>Discreta</td>\n",
    "        <td>No</td>\n",
    "    </tr>\n",
    "    <tr>\n",
    "        <td style='font-weight:bold'>class:</td>\n",
    "        <td>Objeto astronómico detectado.</td>\n",
    "        <td>Categórica</td>\n",
    "        <td>Si</td>\n",
    "    </tr>\n",
    "    <tr>\n",
    "        <td style='font-weight:bold'>redshift:</td>\n",
    "        <td>Velocidad de recesión ( Sirve como medida de distancia a la Tierra ). <a href=\"https://es.qwe.wiki/wiki/Recessional_velocity\">Más Info</a></td>\n",
    "        <td>Continua</td>\n",
    "        <td>Si</td>\n",
    "    </tr>\n",
    "    <tr>\n",
    "        <td style='font-weight:bold'>plate:</td>\n",
    "        <td>ID de la placa utilizada en la captura. <a href=\"https://blog.sdss.org/2014/09/19/sdss-plates/\">Más Info</a></td>\n",
    "        <td>Discreta</td>\n",
    "        <td>No</td>\n",
    "    </tr>\n",
    "    <tr>\n",
    "        <td style='font-weight:bold'>mjd:</td>\n",
    "        <td>Fecha Juliana modificada, de la noche en que se realizó la observación. <a href=\"http://scienceworld.wolfram.com/astronomy/ModifiedJulianDate.html\">Más Info</a></td>\n",
    "        <td>Discreta</td>\n",
    "        <td>No</td>\n",
    "    </tr>\n",
    "    <tr>\n",
    "        <td style='font-weight:bold'>fiberid:</td>\n",
    "        <td>Id del cable de la placa que realizó la captura.</td>\n",
    "        <td>Discreta</td>\n",
    "        <td>No</td>\n",
    "    </tr>\n",
    "</table>\n",
    "\n",
    "\n"
   ]
  },
  {
   "cell_type": "markdown",
   "metadata": {},
   "source": [
    "## Filtración de Parámetros\n",
    "\n",
    "Se puede intuir que parámetros que contienen ID's, características sobre la placa utilizada o sobre la estructura de la imagen, y fechas, no aportan información reelevante al problema **( objid, run, rerun, camcol, field, specobjid, plate, mjd, fiberid )**.\n",
    "\n",
    "Lo mismo ocurre con los parámetros **ra** y **dec**, los cuales indican las coordenadas espaciales de la observación.<br>\n",
    "Podría ocurrir que en ciertas coordenadas, exista una mayor concentración de objetos astronomicos de algun tipo, en cuyo caso los parámetros podrían ser de utilidad, sin embargo el enfoque del problema es detectar objetos independiente de su ubicación.\n",
    "\n",
    "Parámetros que sí podrían aportar información reelevante, son los que contienen mediciones de distintos rangos del especto electromagnético **( u, g, r, i, z )**, ya que según la cantidad de cada uno, se puede deducir la composición química del objeto observado, y por ende su tipo.\n",
    "\n",
    "Otro parámetro que puede ser de utilidad es **redshift**, el cual aporta información respecto a la velocidad con la que el objeto se acerca o aleja de la Tierra, lo cual puede indicar el por qué, de las variaciones en las mediciones de los espectros electromagneticos.\n",
    "\n",
    "Por último, utilizaremos el parámetro **class**, la cuál será la <i>\"variable\"</i> dependiente a estudiar **( Y )**."
   ]
  },
  {
   "cell_type": "code",
   "execution_count": 38,
   "metadata": {},
   "outputs": [],
   "source": [
    "# Variable objetivo\n",
    "Y = df[\"class\"]\n",
    "\n",
    "# Variables predictivas\n",
    "X = df[['u','g','r','i','z','redshift']]"
   ]
  },
  {
   "cell_type": "code",
   "execution_count": 39,
   "metadata": {},
   "outputs": [
    {
     "data": {
      "text/plain": [
       "0"
      ]
     },
     "execution_count": 39,
     "metadata": {},
     "output_type": "execute_result"
    }
   ],
   "source": [
    "# Verificamos si existen datos faltantes\n",
    "Y.isnull().sum()"
   ]
  },
  {
   "cell_type": "code",
   "execution_count": 40,
   "metadata": {},
   "outputs": [
    {
     "data": {
      "text/plain": [
       "u           0\n",
       "g           0\n",
       "r           0\n",
       "i           0\n",
       "z           0\n",
       "redshift    0\n",
       "dtype: int64"
      ]
     },
     "execution_count": 40,
     "metadata": {},
     "output_type": "execute_result"
    }
   ],
   "source": [
    "# Verificamos si existen datos faltantes\n",
    "X.isnull().sum()"
   ]
  },
  {
   "cell_type": "code",
   "execution_count": 41,
   "metadata": {},
   "outputs": [
    {
     "data": {
      "image/png": "[encoded data removed]",
      "text/plain": [
       "<Figure size 432x288 with 1 Axes>"
      ]
     },
     "metadata": {
      "needs_background": "light"
     },
     "output_type": "display_data"
    }
   ],
   "source": [
    "# Verificamos equilibrio\n",
    "import seaborn as sns\n",
    "import matplotlib.pyplot as plt\n",
    "\n",
    "sns.countplot(x=\"class\", data=df)\n",
    "plt.show()"
   ]
  },
  {
   "cell_type": "code",
   "execution_count": 42,
   "metadata": {},
   "outputs": [],
   "source": [
    "# Normalizamos datos\n",
    "from sklearn.preprocessing import StandardScaler\n",
    "scaler = StandardScaler()\n",
    "X_normalized = scaler.fit_transform(X.values)"
   ]
  },
  {
   "cell_type": "code",
   "execution_count": 43,
   "metadata": {},
   "outputs": [
    {
     "data": {
      "text/plain": [
       "6625       QSO\n",
       "2489       QSO\n",
       "9919    GALAXY\n",
       "6964    GALAXY\n",
       "3467      STAR\n",
       "Name: class, dtype: object"
      ]
     },
     "execution_count": 43,
     "metadata": {},
     "output_type": "execute_result"
    }
   ],
   "source": [
    "# Dividimos dataset en testeo y entrenamiento\n",
    "from sklearn.model_selection import train_test_split\n",
    "X_train, X_test, y_train, y_test = train_test_split(X_normalized, Y, test_size = .3, random_state=25)\n",
    "y_train.head()"
   ]
  },
  {
   "cell_type": "code",
   "execution_count": 44,
   "metadata": {},
   "outputs": [
    {
     "data": {
      "text/plain": [
       "LogisticRegression(C=1.0, class_weight=None, dual=False, fit_intercept=True,\n",
       "                   intercept_scaling=1, l1_ratio=None, max_iter=100,\n",
       "                   multi_class='auto', n_jobs=None, penalty='l2',\n",
       "                   random_state=None, solver='lbfgs', tol=0.0001, verbose=0,\n",
       "                   warm_start=False)"
      ]
     },
     "execution_count": 44,
     "metadata": {},
     "output_type": "execute_result"
    }
   ],
   "source": [
    "# Entrenamos el modelo\n",
    "from sklearn.linear_model import LogisticRegression\n",
    "model = LogisticRegression()\n",
    "model.fit(X_train,y_train)"
   ]
  },
  {
   "cell_type": "code",
   "execution_count": 45,
   "metadata": {},
   "outputs": [
    {
     "data": {
      "text/plain": [
       "0.9703333333333334"
      ]
     },
     "execution_count": 45,
     "metadata": {},
     "output_type": "execute_result"
    }
   ],
   "source": [
    "# Analizamos su eficiencia\n",
    "model.score(X_test,y_test)"
   ]
  },
  {
   "cell_type": "code",
   "execution_count": 46,
   "metadata": {},
   "outputs": [
    {
     "data": {
      "text/plain": [
       "(array([0, 0, 1, ..., 0, 1, 1]),\n",
       " Index(['STAR', 'GALAXY', 'QSO'], dtype='object'))"
      ]
     },
     "execution_count": 46,
     "metadata": {},
     "output_type": "execute_result"
    }
   ],
   "source": [
    "# Calculamos la matriz de confución para evaluar donde falla el modelo\n",
    "y_predicted = model.predict(X_test)\n",
    "\n",
    "from sklearn.metrics import confusion_matrix\n",
    "cm = confusion_matrix(y_test, y_predicted)\n",
    "labels = pd.factorize(df['class'])\n",
    "labels"
   ]
  },
  {
   "cell_type": "code",
   "execution_count": 47,
   "metadata": {},
   "outputs": [
    {
     "data": {
      "text/plain": [
       "Text(69.0, 0.5, 'Valor Real')"
      ]
     },
     "execution_count": 47,
     "metadata": {},
     "output_type": "execute_result"
    },
    {
     "data": {
      "image/png": "[encoded data removed]",
      "text/plain": [
       "<Figure size 720x504 with 2 Axes>"
      ]
     },
     "metadata": {
      "needs_background": "light"
     },
     "output_type": "display_data"
    }
   ],
   "source": [
    "import seaborn as sn\n",
    "plt.figure(figsize = (10,7))\n",
    "sn.heatmap(cm,annot=True)\n",
    "plt.xlabel(\"Predicción\")\n",
    "plt.ylabel(\"Valor Real\")"
   ]
  },
  {
   "cell_type": "code",
   "execution_count": 48,
   "metadata": {},
   "outputs": [],
   "source": [
    "# Ahora con datos equilibrados\n",
    "starsLen = len(df.loc[df['class'] == \"STAR\"])\n",
    "galaxyLen = len(df.loc[df['class'] == \"GALAXY\"])\n",
    "qsoLen = len(df.loc[df['class'] == \"QSO\"])\n",
    "\n",
    "# Borramos estrellas\n",
    "indexNames = df[ df['class'] == \"STAR\" ].index[:starsLen - qsoLen]\n",
    "df.drop(indexNames , inplace=True)\n",
    "\n",
    "# Borramos galaxias\n",
    "indexNames = df[ df['class'] == \"GALAXY\" ].index[:galaxyLen - qsoLen]\n",
    "df.drop(indexNames , inplace=True)\n"
   ]
  },
  {
   "cell_type": "code",
   "execution_count": 49,
   "metadata": {},
   "outputs": [
    {
     "data": {
      "image/png": "[encoded data removed]",
      "text/plain": [
       "<Figure size 432x288 with 1 Axes>"
      ]
     },
     "metadata": {
      "needs_background": "light"
     },
     "output_type": "display_data"
    }
   ],
   "source": [
    "# Verificamos equilibrio\n",
    "sns.countplot(x=\"class\", data=df)\n",
    "plt.show()"
   ]
  },
  {
   "cell_type": "code",
   "execution_count": 50,
   "metadata": {},
   "outputs": [],
   "source": [
    "# Normalizamos datos\n",
    "\n",
    "Y = df[\"class\"]\n",
    "X = df[['u','g','r','i','z','redshift']]\n",
    "scaler = StandardScaler()\n",
    "X_normalized = scaler.fit_transform(X.values)\n"
   ]
  },
  {
   "cell_type": "code",
   "execution_count": 51,
   "metadata": {},
   "outputs": [
    {
     "data": {
      "text/plain": [
       "0.535"
      ]
     },
     "execution_count": 51,
     "metadata": {},
     "output_type": "execute_result"
    }
   ],
   "source": [
    "model = LogisticRegression()\n",
    "model.fit(X_normalized,Y)\n",
    "\n",
    "# Analizamos su eficiencia\n",
    "model.score(X_test,y_test)"
   ]
  },
  {
   "cell_type": "code",
   "execution_count": 52,
   "metadata": {},
   "outputs": [],
   "source": [
    "# Calculamos la matriz de confución para evaluar donde falla el modelo\n",
    "y_predicted = model.predict(X_test)"
   ]
  },
  {
   "cell_type": "code",
   "execution_count": 53,
   "metadata": {},
   "outputs": [
    {
     "data": {
      "text/plain": [
       "(array([0, 0, 1, ..., 0, 1, 1]),\n",
       " Index(['STAR', 'GALAXY', 'QSO'], dtype='object'))"
      ]
     },
     "execution_count": 53,
     "metadata": {},
     "output_type": "execute_result"
    }
   ],
   "source": [
    "cm = confusion_matrix(y_test, y_predicted)\n",
    "labels"
   ]
  },
  {
   "cell_type": "code",
   "execution_count": 54,
   "metadata": {},
   "outputs": [
    {
     "data": {
      "text/plain": [
       "Text(69.0, 0.5, 'Valor Real')"
      ]
     },
     "execution_count": 54,
     "metadata": {},
     "output_type": "execute_result"
    },
    {
     "data": {
      "image/png": "[encoded data removed]",
      "text/plain": [
       "<Figure size 720x504 with 2 Axes>"
      ]
     },
     "metadata": {
      "needs_background": "light"
     },
     "output_type": "display_data"
    }
   ],
   "source": [
    "plt.figure(figsize = (10,7))\n",
    "sn.heatmap(cm,annot=True)\n",
    "plt.xlabel(\"Predicción\")\n",
    "plt.ylabel(\"Valor Real\")"
   ]
  }
 ],
 "metadata": {
  "kernelspec": {
   "display_name": "Python 3",
   "language": "python",
   "name": "python3"
  },
  "language_info": {
   "codemirror_mode": {
    "name": "ipython",
    "version": 3
   },
   "file_extension": ".py",
   "mimetype": "text/x-python",
   "name": "python",
   "nbconvert_exporter": "python",
   "pygments_lexer": "ipython3",
   "version": "3.7.6"
  }
 },
 "nbformat": 4,
 "nbformat_minor": 4
}
